{
 "cells": [
  {
   "cell_type": "code",
   "execution_count": 2,
   "metadata": {},
   "outputs": [
    {
     "ename": "ModuleNotFoundError",
     "evalue": "No module named 'folium'",
     "output_type": "error",
     "traceback": [
      "\u001b[1;31m---------------------------------------------------------------------------\u001b[0m",
      "\u001b[1;31mModuleNotFoundError\u001b[0m                       Traceback (most recent call last)",
      "\u001b[1;32mC:\\Users\\ARTHUR~1\\AppData\\Local\\Temp/ipykernel_26168/2460518525.py\u001b[0m in \u001b[0;36m<module>\u001b[1;34m\u001b[0m\n\u001b[0;32m      2\u001b[0m \u001b[1;33m\u001b[0m\u001b[0m\n\u001b[0;32m      3\u001b[0m \u001b[1;32mimport\u001b[0m \u001b[0mpandas\u001b[0m \u001b[1;32mas\u001b[0m \u001b[0mpd\u001b[0m\u001b[1;33m\u001b[0m\u001b[1;33m\u001b[0m\u001b[0m\n\u001b[1;32m----> 4\u001b[1;33m \u001b[1;32mimport\u001b[0m \u001b[0mfolium\u001b[0m\u001b[1;33m\u001b[0m\u001b[1;33m\u001b[0m\u001b[0m\n\u001b[0m\u001b[0;32m      5\u001b[0m \u001b[1;32mimport\u001b[0m \u001b[0mgeopy\u001b[0m\u001b[1;33m.\u001b[0m\u001b[0mdistance\u001b[0m\u001b[1;33m\u001b[0m\u001b[1;33m\u001b[0m\u001b[0m\n\u001b[0;32m      6\u001b[0m \u001b[1;32mimport\u001b[0m \u001b[0mnetworkx\u001b[0m \u001b[1;32mas\u001b[0m \u001b[0mnx\u001b[0m\u001b[1;33m\u001b[0m\u001b[1;33m\u001b[0m\u001b[0m\n",
      "\u001b[1;31mModuleNotFoundError\u001b[0m: No module named 'folium'"
     ]
    }
   ],
   "source": [
    "#importen van pakketten\n",
    "\n",
    "import pandas as pd\n",
    "import folium\n",
    "import geopy.distance\n",
    "import networkx as nx\n",
    "import osmnx as ox\n",
    "from IPython.display import IFrame\n",
    "import numpy\n",
    "\n",
    "ox.config(use_cache=True, log_console=True)\n",
    "\n",
    "\n",
    "%matplotlib inline\n",
    "ox.__version__"
   ]
  },
  {
   "cell_type": "code",
   "execution_count": null,
   "metadata": {},
   "outputs": [
    {
     "ename": "",
     "evalue": "",
     "output_type": "error",
     "traceback": [
      "\u001b[1;31mRunning cells with 'Python 3.11.0 64-bit' requires ipykernel package.\n",
      "\u001b[1;31mRun the following command to install 'ipykernel' into the Python environment. \n",
      "\u001b[1;31mCommand: '\"c:/Users/Arthur Hollevoet/AppData/Local/Programs/Python/Python311/python.exe\" -m pip install ipykernel -U --user --force-reinstall'"
     ]
    }
   ],
   "source": [
    "#inputs van de gebruiker\n",
    "\n",
    "# download the street network for Piedmont, CA\n",
    "place = \"gavere,belgie\"\n",
    "\n",
    "\n",
    "G = ox.graph_from_place(place, network_type=\"all\",retain_all=True, truncate_by_edge=True, clean_periphery=True,) #blauw\n",
    "G2 = ox.graph_from_place(place, network_type='all') #rood\n",
    "G3 = ox.graph_from_address(place, dist=800, network_type='all') #oranje\n",
    "G4 = ox.graph_from_address(place, network_type=\"bike\") #geel \n",
    "G5 = ox.graph_from_address(place, network_type=\"walk\") #groen\n",
    "G6 = ox.graph_from_address(place, network_type=\"all_private\") #paars\n",
    "G7 = ox.graph_from_address(place, network_type=\"drive_service\")\n",
    "\n",
    "#start punt \n",
    "start = (50.930574, 3.656626)\n",
    "\n",
    "#eindpunt\n",
    "finish = (50.927704, 3.668098)\n",
    "\n"
   ]
  },
  {
   "cell_type": "code",
   "execution_count": null,
   "metadata": {},
   "outputs": [
    {
     "ename": "",
     "evalue": "",
     "output_type": "error",
     "traceback": [
      "\u001b[1;31mRunning cells with 'Python 3.11.0 64-bit' requires ipykernel package.\n",
      "\u001b[1;31mRun the following command to install 'ipykernel' into the Python environment. \n",
      "\u001b[1;31mCommand: '\"c:/Users/Arthur Hollevoet/AppData/Local/Programs/Python/Python311/python.exe\" -m pip install ipykernel -U --user --force-reinstall'"
     ]
    }
   ],
   "source": [
    "my_map = folium.Map(\n",
    "    location=[51.026316, 3.710697],zoom_start=15)\n"
   ]
  },
  {
   "cell_type": "code",
   "execution_count": null,
   "metadata": {},
   "outputs": [
    {
     "ename": "",
     "evalue": "",
     "output_type": "error",
     "traceback": [
      "\u001b[1;31mRunning cells with 'Python 3.11.0 64-bit' requires ipykernel package.\n",
      "\u001b[1;31mRun the following command to install 'ipykernel' into the Python environment. \n",
      "\u001b[1;31mCommand: '\"c:/Users/Arthur Hollevoet/AppData/Local/Programs/Python/Python311/python.exe\" -m pip install ipykernel -U --user --force-reinstall'"
     ]
    }
   ],
   "source": [
    "# plot the street network with folium\n",
    "m1 = ox.plot_graph_folium(G,my_map, popup_attribute=\"name\", weight=2, color=\"#8b0000\")\n",
    "\n",
    "center = ((start[0]+finish[0])/2,(start[1]+finish[1])/2)\n",
    "\n",
    "# radius afstand omzetten naar meter afstand plus een marge\n",
    "afstand = geopy.distance.geodesic(start, finish).km\n",
    "\n",
    "#start punt\n",
    "folium.Marker(\n",
    "    location=start,\n",
    "    popup=('start punt'),\n",
    "    tooltip=('start punt'),\n",
    "    icon=folium.Icon(color='green',icon='circle',prefix='fa'),\n",
    "  \n",
    "  \n",
    ").add_to(m1)\n",
    "\n",
    "\n",
    "#eind punt \n",
    "folium.Marker(\n",
    "    location=finish,\n",
    "    popup=('eind punt'),\n",
    "    tooltip=('eind punt'),\n",
    "    icon=folium.Icon(color='red'),\n",
    "\n",
    ").add_to(m1)\n",
    "\n",
    "\n",
    "folium.Circle(\n",
    "    location=[center[0],center[1]],\n",
    "    radius= (afstand*1000)/1.5,\n",
    "    popup = 'area',\n",
    "    color='#2642ab',\n",
    "    fill=True,\n",
    "    fill_color='#e1e9f7'\n",
    ").add_to(m1)\n",
    "\n",
    "\n",
    "m1\n"
   ]
  },
  {
   "cell_type": "code",
   "execution_count": null,
   "metadata": {},
   "outputs": [
    {
     "ename": "",
     "evalue": "",
     "output_type": "error",
     "traceback": [
      "\u001b[1;31mRunning cells with 'Python 3.11.0 64-bit' requires ipykernel package.\n",
      "\u001b[1;31mRun the following command to install 'ipykernel' into the Python environment. \n",
      "\u001b[1;31mCommand: '\"c:/Users/Arthur Hollevoet/AppData/Local/Programs/Python/Python311/python.exe\" -m pip install ipykernel -U --user --force-reinstall'"
     ]
    }
   ],
   "source": [
    "# use networkx to calculate the shortest path between two nodes\n",
    "start_node = ox.nearest_nodes(G, start[1], start[0])\n",
    "finish_node = ox.nearest_nodes(G, finish[1], finish[0])\n",
    "\n",
    "#routes \n",
    "\n",
    "route1 = nx.shortest_path(G, start_node, finish_node)\n",
    "route2 = nx.shortest_path(G2, start_node, finish_node, weight='length')\n",
    "route3 = nx.shortest_path(G3, start_node, finish_node)\n",
    "route4 = nx.shortest_path(G4, start_node, finish_node)\n",
    "route5 = nx.shortest_path(G5, start_node, finish_node)\n",
    "route6 = nx.shortest_path(G6, start_node, finish_node)\n",
    "route7 = nx.shortest_path(G7, start_node, finish_node)\n",
    "\n",
    "# plot the route with folium\n",
    "# like above, you can pass keyword args along to folium PolyLine to style the lines\n",
    "\n",
    "m1 = ox.plot_route_folium(G, route1, route_map=m1, popup_attribute=\"length\", zoom=25, weight=7, color='blue')\n",
    "m1 = ox.plot_route_folium(G2, route2, route_map=m1, popup_attribute=\"length\", zoom=25, weight=7, color='red')\n",
    "m1 = ox.plot_route_folium(G3, route3, route_map=m1, popup_attribute=\"length\", zoom=25, weight=7, color='orange')\n",
    "m1 = ox.plot_route_folium(G4, route4, route_map=m1, popup_attribute=\"length\", zoom=25, weight=7, color='yellow')\n",
    "m1 = ox.plot_route_folium(G5, route5, route_map=m1, popup_attribute=\"length\", zoom=25, weight=7, color='green')\n",
    "m1 = ox.plot_route_folium(G6, route6, route_map=m1, popup_attribute=\"length\", zoom=25, weight=7, color='pink')\n",
    "m1 = ox.plot_route_folium(G7, route7, route_map=m1, popup_attribute=\"length\", zoom=25, weight=7, color='purple')"
   ]
  },
  {
   "cell_type": "code",
   "execution_count": null,
   "metadata": {},
   "outputs": [
    {
     "ename": "",
     "evalue": "",
     "output_type": "error",
     "traceback": [
      "\u001b[1;31mRunning cells with 'Python 3.11.0 64-bit' requires ipykernel package.\n",
      "\u001b[1;31mRun the following command to install 'ipykernel' into the Python environment. \n",
      "\u001b[1;31mCommand: '\"c:/Users/Arthur Hollevoet/AppData/Local/Programs/Python/Python311/python.exe\" -m pip install ipykernel -U --user --force-reinstall'"
     ]
    }
   ],
   "source": [
    "y_cor = []\n",
    "x_cor = []\n",
    "gebied = []\n",
    "\n",
    "\n",
    "for i in route1:\n",
    "    y = G.nodes[i]['y']\n",
    "    x = G.nodes[i]['x']\n",
    "    y_cor.append(y)\n",
    "    x_cor.append(x)\n",
    "    result = ox.geometries_from_point((y, x),{\"landuse\":True}, dist =(30))\n",
    "\n",
    "    r = []\n",
    "    for i in result['landuse']:\n",
    "        aantal = 0\n",
    "        grootste_nr = 0\n",
    "        grootste_gb = \"\"\n",
    "        for k in result['landuse']:\n",
    "            if i == k:\n",
    "                aantal = aantal +1\n",
    "                if aantal > grootste_nr:\n",
    "                    grootste_gb = i\n",
    "    gebied.append(grootste_gb)\n",
    "    print(y,x,grootste_gb)"
   ]
  },
  {
   "cell_type": "code",
   "execution_count": null,
   "metadata": {},
   "outputs": [
    {
     "ename": "",
     "evalue": "",
     "output_type": "error",
     "traceback": [
      "\u001b[1;31mRunning cells with 'Python 3.11.0 64-bit' requires ipykernel package.\n",
      "\u001b[1;31mRun the following command to install 'ipykernel' into the Python environment. \n",
      "\u001b[1;31mCommand: '\"c:/Users/Arthur Hollevoet/AppData/Local/Programs/Python/Python311/python.exe\" -m pip install ipykernel -U --user --force-reinstall'"
     ]
    }
   ],
   "source": [
    "nummer = 0\n",
    "for i in route1:\n",
    "    kleur = 'green'\n",
    "    if gebied[nummer] == 'residential':\n",
    "        kleur = 'red'\n",
    "    folium.Marker(\n",
    "    location=(y_cor[nummer],x_cor[nummer]),\n",
    "    popup=(gebied[nummer]),\n",
    "    tooltip=(gebied[nummer]),\n",
    "    icon=folium.Icon(color=kleur,prefix='fa'),\n",
    "   \n",
    "    )#.add_to(m1) even uit gezet \n",
    "    nummer = nummer +1\n",
    "m1"
   ]
  }
 ],
 "metadata": {
  "kernelspec": {
   "display_name": "Python 3 (ipykernel)",
   "language": "python",
   "name": "python3"
  },
  "language_info": {
   "codemirror_mode": {
    "name": "ipython",
    "version": 3
   },
   "file_extension": ".py",
   "mimetype": "text/x-python",
   "name": "python",
   "nbconvert_exporter": "python",
   "pygments_lexer": "ipython3",
   "version": "3.9.7"
  },
  "vscode": {
   "interpreter": {
    "hash": "ad2bdc8ecc057115af97d19610ffacc2b4e99fae6737bb82f5d7fb13d2f2c186"
   }
  }
 },
 "nbformat": 4,
 "nbformat_minor": 2
}
